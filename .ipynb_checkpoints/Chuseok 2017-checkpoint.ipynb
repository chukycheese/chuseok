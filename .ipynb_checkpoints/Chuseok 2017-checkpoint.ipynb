{
 "cells": [
  {
   "cell_type": "code",
   "execution_count": 1,
   "metadata": {
    "collapsed": true
   },
   "outputs": [],
   "source": [
    "import numpy as np\n",
    "import pandas as pd\n",
    "import matplotlib.pyplot as plt\n",
    "import re\n",
    "from datetime import datetime\n",
    "from collections import Counter"
   ]
  },
  {
   "cell_type": "code",
   "execution_count": 2,
   "metadata": {
    "collapsed": false
   },
   "outputs": [],
   "source": [
    "%matplotlib inline"
   ]
  },
  {
   "cell_type": "markdown",
   "metadata": {},
   "source": [
    "# Netflix"
   ]
  },
  {
   "cell_type": "code",
   "execution_count": 3,
   "metadata": {
    "collapsed": true
   },
   "outputs": [],
   "source": [
    "netflix = pd.read_csv(\"Chuseok activities - Netflix.csv\")"
   ]
  },
  {
   "cell_type": "code",
   "execution_count": 4,
   "metadata": {
    "collapsed": false
   },
   "outputs": [],
   "source": [
    "# Add a column named Show Title\n",
    "netflix[\"Show Title\"] = netflix[\"Title\"].str.split(\":\").str[0]\n",
    "\n",
    "# Replace Korean Titles to English\n",
    "netflix[\"Show Title\"].replace(['트레일러 파크 보이즈', '효리네 민박', '버킷 리스트', '루폴의 드래그 레이스', '릭 앤 모티', '친애하는 백인 여러분'],\n",
    "                             ['Trailer Park Boys', \"Hyoree's Guesthouse\", 'Bucket List', \"RuPaul's Drag Race\", 'Rick and Morty', 'Dear White People'],\n",
    "                             inplace = True)"
   ]
  },
  {
   "cell_type": "code",
   "execution_count": 5,
   "metadata": {
    "collapsed": false
   },
   "outputs": [
    {
     "data": {
      "text/plain": [
       "{'Brooklyn Nine-Nine',\n",
       " 'Bucket List',\n",
       " 'Dear White People',\n",
       " \"Hyoree's Guesthouse\",\n",
       " 'Rick and Morty',\n",
       " \"RuPaul's Drag Race\",\n",
       " 'Trailer Park Boys'}"
      ]
     },
     "execution_count": 5,
     "metadata": {},
     "output_type": "execute_result"
    }
   ],
   "source": [
    "set(netflix[\"Show Title\"])"
   ]
  },
  {
   "cell_type": "code",
   "execution_count": 6,
   "metadata": {
    "collapsed": false
   },
   "outputs": [
    {
     "data": {
      "text/plain": [
       "Counter({'Brooklyn Nine-Nine': 18,\n",
       "         'Bucket List': 1,\n",
       "         'Dear White People': 1,\n",
       "         \"Hyoree's Guesthouse\": 1,\n",
       "         'Rick and Morty': 1,\n",
       "         \"RuPaul's Drag Race\": 2,\n",
       "         'Trailer Park Boys': 87})"
      ]
     },
     "execution_count": 6,
     "metadata": {},
     "output_type": "execute_result"
    }
   ],
   "source": [
    "# Display the number of episodes watched for each show\n",
    "cnt = Counter()\n",
    "for show in netflix[\"Show Title\"]:\n",
    "    cnt[show] += 1\n",
    "\n",
    "cnt"
   ]
  },
  {
   "cell_type": "code",
   "execution_count": 7,
   "metadata": {
    "collapsed": false
   },
   "outputs": [],
   "source": [
    "# duration = netflix[\"Duration\"]\n",
    "# total_secs = 0\n",
    "# for tm in duration:\n",
    "#     time_parts = [int(s) for s in tm.split(':')]\n",
    "#     total_secs += (time_parts[0] * 60 + time_parts[1]) * 60 + time_parts[2]\n",
    "# total_secs, sec = divmod(total_secs, 60)\n",
    "# hr, min = divmod(total_secs, 60)\n",
    "# print(\"%d:%02d:%02d\" % (hr, min, sec))"
   ]
  },
  {
   "cell_type": "code",
   "execution_count": 8,
   "metadata": {
    "collapsed": true
   },
   "outputs": [],
   "source": [
    "# A fuction to calculation total duration of each show\n",
    "def duration_show(title):\n",
    "    shows = netflix[netflix[\"Show Title\"] == title]\n",
    "    duration = shows[\"Duration\"]\n",
    "    total_secs = 0\n",
    "    for tm in duration:\n",
    "        time_parts = [int(s) for s in tm.split(\":\")]\n",
    "        total_secs += (time_parts[0] * 60 + time_parts[1]) * 60 + time_parts[2]\n",
    "    min, sec = divmod(total_secs, 60)\n",
    "    return min"
   ]
  },
  {
   "cell_type": "code",
   "execution_count": 42,
   "metadata": {
    "collapsed": false
   },
   "outputs": [
    {
     "name": "stdout",
     "output_type": "stream",
     "text": [
      "Hyoree's Guesthouse : 60 mins played\n",
      "Dear White People : 28 mins played\n",
      "Bucket List : 97 mins played\n",
      "Trailer Park Boys : 2436 mins played\n",
      "Rick and Morty : 28 mins played\n",
      "Brooklyn Nine-Nine : 504 mins played\n",
      "RuPaul's Drag Race : 56 mins played\n"
     ]
    }
   ],
   "source": [
    "titles = []\n",
    "durations = []\n",
    "\n",
    "for title in set(netflix[\"Show Title\"]):\n",
    "    print(\"{} : {} mins played\".format(title, duration_show(title)))\n",
    "    titles.append(title)\n",
    "    durations.append(duration_show(title))"
   ]
  },
  {
   "cell_type": "code",
   "execution_count": 55,
   "metadata": {
    "collapsed": false
   },
   "outputs": [],
   "source": [
    "netflix_df = pd.DataFrame({'Title' : titles, 'Duration' : durations}).sort_values(by = \"Duration\", ascending = False)"
   ]
  },
  {
   "cell_type": "code",
   "execution_count": 56,
   "metadata": {
    "collapsed": false
   },
   "outputs": [
    {
     "data": {
      "text/html": [
       "<div>\n",
       "<table border=\"1\" class=\"dataframe\">\n",
       "  <thead>\n",
       "    <tr style=\"text-align: right;\">\n",
       "      <th></th>\n",
       "      <th>Duration</th>\n",
       "      <th>Title</th>\n",
       "    </tr>\n",
       "  </thead>\n",
       "  <tbody>\n",
       "    <tr>\n",
       "      <th>3</th>\n",
       "      <td>2436</td>\n",
       "      <td>Trailer Park Boys</td>\n",
       "    </tr>\n",
       "    <tr>\n",
       "      <th>5</th>\n",
       "      <td>504</td>\n",
       "      <td>Brooklyn Nine-Nine</td>\n",
       "    </tr>\n",
       "    <tr>\n",
       "      <th>2</th>\n",
       "      <td>97</td>\n",
       "      <td>Bucket List</td>\n",
       "    </tr>\n",
       "    <tr>\n",
       "      <th>0</th>\n",
       "      <td>60</td>\n",
       "      <td>Hyoree's Guesthouse</td>\n",
       "    </tr>\n",
       "    <tr>\n",
       "      <th>6</th>\n",
       "      <td>56</td>\n",
       "      <td>RuPaul's Drag Race</td>\n",
       "    </tr>\n",
       "    <tr>\n",
       "      <th>1</th>\n",
       "      <td>28</td>\n",
       "      <td>Dear White People</td>\n",
       "    </tr>\n",
       "    <tr>\n",
       "      <th>4</th>\n",
       "      <td>28</td>\n",
       "      <td>Rick and Morty</td>\n",
       "    </tr>\n",
       "  </tbody>\n",
       "</table>\n",
       "</div>"
      ],
      "text/plain": [
       "   Duration                Title\n",
       "3      2436    Trailer Park Boys\n",
       "5       504   Brooklyn Nine-Nine\n",
       "2        97          Bucket List\n",
       "0        60  Hyoree's Guesthouse\n",
       "6        56   RuPaul's Drag Race\n",
       "1        28    Dear White People\n",
       "4        28       Rick and Morty"
      ]
     },
     "execution_count": 56,
     "metadata": {},
     "output_type": "execute_result"
    }
   ],
   "source": []
  },
  {
   "cell_type": "code",
   "execution_count": 66,
   "metadata": {
    "collapsed": false
   },
   "outputs": [
    {
     "name": "stdout",
     "output_type": "stream",
     "text": [
      "The total play time of Netflix is 53 hours and 29 mins\n",
      "The average play time of Netflix is 7 hours and 38 mins\n"
     ]
    }
   ],
   "source": [
    "# Total play time of Netflix\n",
    "print(\"The total play time of Netflix is %d hours and %02d mins\" % divmod(netflix_df[\"Duration\"].sum(), 60))\n",
    "\n",
    "# Average play time of Netflix a day\n",
    "print(\"The average play time of Netflix is %d hours and %02d mins\" % divmod(netflix_df[\"Duration\"].mean(), 60))"
   ]
  },
  {
   "cell_type": "code",
   "execution_count": 58,
   "metadata": {
    "collapsed": false
   },
   "outputs": [
    {
     "data": {
      "image/png": "[encoded data removed]",
      "text/plain": [
       "<matplotlib.figure.Figure at 0x28c955a9e80>"
      ]
     },
     "metadata": {},
     "output_type": "display_data"
    }
   ],
   "source": [
    "# Pie chart of TV shows\n",
    "labels = netflix_df[\"Title\"]\n",
    "plt_durations = netflix_df[\"Duration\"]\n",
    "\n",
    "colors = ['yellowgreen', 'gold', 'lightskyblue', \n",
    "          'white','lightcoral','blue','pink']\n",
    "\n",
    "fig1, ax1 = plt.subplots()\n",
    "ax1.pie(plt_durations, labels = labels, autopct = '%1.1f%%', startangle = 0, colors = colors)\n",
    "ax1.axis('equal') # Equal aspect ratio ensures that pie is drawn as a circle\n",
    "plt.show()"
   ]
  },
  {
   "cell_type": "markdown",
   "metadata": {},
   "source": [
    "# Sleep"
   ]
  },
  {
   "cell_type": "code",
   "execution_count": 12,
   "metadata": {
    "collapsed": true
   },
   "outputs": [],
   "source": [
    "sleep = pd.read_csv(\"Chuseok activities - Sleep.csv\")"
   ]
  },
  {
   "cell_type": "code",
   "execution_count": 13,
   "metadata": {
    "collapsed": false
   },
   "outputs": [],
   "source": [
    "# Change the data type of Date from string to Datetime\n",
    "sleep[\"Date\"] = pd.to_datetime(sleep['Date'], yearfirst= True)\n",
    "\n",
    "# Reorder the data from the earlist to the latest\n",
    "sleep.sort_values(by = \"Date\", inplace = True)"
   ]
  },
  {
   "cell_type": "code",
   "execution_count": 14,
   "metadata": {
    "collapsed": false
   },
   "outputs": [
    {
     "data": {
      "text/html": [
       "<div>\n",
       "<table border=\"1\" class=\"dataframe\">\n",
       "  <thead>\n",
       "    <tr style=\"text-align: right;\">\n",
       "      <th></th>\n",
       "      <th>Date</th>\n",
       "      <th>In bed for</th>\n",
       "      <th>Deep Sleep</th>\n",
       "      <th>Light Sleep</th>\n",
       "    </tr>\n",
       "  </thead>\n",
       "  <tbody>\n",
       "    <tr>\n",
       "      <th>7</th>\n",
       "      <td>2017-09-29</td>\n",
       "      <td>6:34:00</td>\n",
       "      <td>1:34:00</td>\n",
       "      <td>5:00:00</td>\n",
       "    </tr>\n",
       "    <tr>\n",
       "      <th>6</th>\n",
       "      <td>2017-09-30</td>\n",
       "      <td>6:02:00</td>\n",
       "      <td>1:26:00</td>\n",
       "      <td>4:43:00</td>\n",
       "    </tr>\n",
       "    <tr>\n",
       "      <th>5</th>\n",
       "      <td>2017-10-01</td>\n",
       "      <td>8:38:00</td>\n",
       "      <td>0:49:00</td>\n",
       "      <td>7:49:00</td>\n",
       "    </tr>\n",
       "    <tr>\n",
       "      <th>4</th>\n",
       "      <td>2017-10-02</td>\n",
       "      <td>8:16:00</td>\n",
       "      <td>1:12:00</td>\n",
       "      <td>7:04:00</td>\n",
       "    </tr>\n",
       "    <tr>\n",
       "      <th>3</th>\n",
       "      <td>2017-10-03</td>\n",
       "      <td>9:13:00</td>\n",
       "      <td>1:22:00</td>\n",
       "      <td>7:51:00</td>\n",
       "    </tr>\n",
       "    <tr>\n",
       "      <th>2</th>\n",
       "      <td>2017-10-04</td>\n",
       "      <td>7:45:00</td>\n",
       "      <td>1:33:00</td>\n",
       "      <td>6:12:00</td>\n",
       "    </tr>\n",
       "    <tr>\n",
       "      <th>1</th>\n",
       "      <td>2017-10-05</td>\n",
       "      <td>NaN</td>\n",
       "      <td>NaN</td>\n",
       "      <td>NaN</td>\n",
       "    </tr>\n",
       "    <tr>\n",
       "      <th>0</th>\n",
       "      <td>2017-10-06</td>\n",
       "      <td>9:12:00</td>\n",
       "      <td>1:07:00</td>\n",
       "      <td>8:05:00</td>\n",
       "    </tr>\n",
       "  </tbody>\n",
       "</table>\n",
       "</div>"
      ],
      "text/plain": [
       "        Date In bed for Deep Sleep Light Sleep\n",
       "7 2017-09-29    6:34:00    1:34:00     5:00:00\n",
       "6 2017-09-30    6:02:00    1:26:00     4:43:00\n",
       "5 2017-10-01    8:38:00    0:49:00     7:49:00\n",
       "4 2017-10-02    8:16:00    1:12:00     7:04:00\n",
       "3 2017-10-03    9:13:00    1:22:00     7:51:00\n",
       "2 2017-10-04    7:45:00    1:33:00     6:12:00\n",
       "1 2017-10-05        NaN        NaN         NaN\n",
       "0 2017-10-06    9:12:00    1:07:00     8:05:00"
      ]
     },
     "execution_count": 14,
     "metadata": {},
     "output_type": "execute_result"
    }
   ],
   "source": [
    "sleep"
   ]
  },
  {
   "cell_type": "code",
   "execution_count": 15,
   "metadata": {
    "collapsed": false
   },
   "outputs": [],
   "source": [
    "# Replace the data type of Date from Timestamp to string\n",
    "sleep[\"Date\"] = [str(date.date()) for date in sleep[\"Date\"]]"
   ]
  },
  {
   "cell_type": "code",
   "execution_count": 16,
   "metadata": {
    "collapsed": true
   },
   "outputs": [],
   "source": [
    "# A fuction to calculate sleep duration by mins\n",
    "def duration_sleep(date):\n",
    "    sleeps = sleep[sleep[\"Date\"] == date]\n",
    "    sleep_hour = sleeps[\"In bed for\"]\n",
    "    total_secs = 0\n",
    "    for tm in sleep_hour:\n",
    "        if isinstance(tm, str):\n",
    "            time_parts = [int(s) for s in tm.split(\":\")]\n",
    "            total_secs += (time_parts[0] * 60 + time_parts[1]) * 60 + time_parts[2]\n",
    "        else:\n",
    "            continue\n",
    "    min, sec = divmod(total_secs, 60)\n",
    "    return min"
   ]
  },
  {
   "cell_type": "code",
   "execution_count": 17,
   "metadata": {
    "collapsed": false
   },
   "outputs": [],
   "source": [
    "# Make a column Duration with the total minutes of sleep in each day\n",
    "sleep[\"Duration\"] = [duration_sleep(date) for date in sleep[\"Date\"]]"
   ]
  },
  {
   "cell_type": "code",
   "execution_count": 18,
   "metadata": {
    "collapsed": false
   },
   "outputs": [],
   "source": [
    "# Replace 0 with the average sleep hours\n",
    "sleep[\"Duration\"].replace(0, sleep[\"Duration\"].mean(), inplace = True)"
   ]
  },
  {
   "cell_type": "code",
   "execution_count": 19,
   "metadata": {
    "collapsed": false
   },
   "outputs": [
    {
     "name": "stdout",
     "output_type": "stream",
     "text": [
      "The average duration of sleep is 7 hours and 49 mins\n",
      "The total duration of sleep is 62 hours and 37 mins\n"
     ]
    }
   ],
   "source": [
    "# The average length of sleep\n",
    "print(\"The average duration of sleep is %d hours and %02d mins\" % divmod(sleep[\"Duration\"].mean(), 60))\n",
    "\n",
    "# The Total duration of sleep\n",
    "print(\"The total duration of sleep is %d hours and %02d mins\" % divmod(sleep[\"Duration\"].sum(), 60))"
   ]
  },
  {
   "cell_type": "code",
   "execution_count": 20,
   "metadata": {
    "collapsed": false
   },
   "outputs": [
    {
     "data": {
      "image/png": "[encoded data removed]",
      "text/plain": [
       "<matplotlib.figure.Figure at 0x28c93dd00b8>"
      ]
     },
     "metadata": {},
     "output_type": "display_data"
    }
   ],
   "source": [
    "# Draw a plot\n",
    "fig, ax = plt.subplots()\n",
    "\n",
    "index = np.arange(8)\n",
    "\n",
    "bar_width = 0.5\n",
    "\n",
    "rects = ax.bar(index, sleep[\"Duration\"], bar_width,\n",
    "              alpha = 0.4, color = 'b')\n",
    "ax.set_xlabel('Date')\n",
    "ax.set_ylabel('Minutes')\n",
    "ax.set_title('Duration of Sleep')\n",
    "ax.set_xticks(index + bar_width / 2)\n",
    "ax.set_xticklabels(sleep[\"Date\"])\n",
    "\n",
    "# Add a line for average sleep duration\n",
    "ax.axhline(sleep[\"Duration\"].mean())\n",
    "\n",
    "# ax.xaxis_date()\n",
    "fig.autofmt_xdate()\n",
    "\n",
    "plt.show()"
   ]
  },
  {
   "cell_type": "markdown",
   "metadata": {},
   "source": [
    "# Walk"
   ]
  },
  {
   "cell_type": "code",
   "execution_count": 21,
   "metadata": {
    "collapsed": true
   },
   "outputs": [],
   "source": [
    "walk = pd.read_csv(\"Chuseok activities - Walking.csv\")"
   ]
  },
  {
   "cell_type": "code",
   "execution_count": 22,
   "metadata": {
    "collapsed": false
   },
   "outputs": [
    {
     "data": {
      "text/html": [
       "<div>\n",
       "<table border=\"1\" class=\"dataframe\">\n",
       "  <thead>\n",
       "    <tr style=\"text-align: right;\">\n",
       "      <th></th>\n",
       "      <th>Date</th>\n",
       "      <th>Steps</th>\n",
       "      <th>Activity Time</th>\n",
       "      <th>Distance</th>\n",
       "      <th>Burned</th>\n",
       "    </tr>\n",
       "  </thead>\n",
       "  <tbody>\n",
       "    <tr>\n",
       "      <th>0</th>\n",
       "      <td>17. 10. 6.</td>\n",
       "      <td>3663</td>\n",
       "      <td>0:49:00</td>\n",
       "      <td>2.600</td>\n",
       "      <td>93</td>\n",
       "    </tr>\n",
       "    <tr>\n",
       "      <th>1</th>\n",
       "      <td>17. 10. 5.</td>\n",
       "      <td>1175</td>\n",
       "      <td>0:28:00</td>\n",
       "      <td>0.768</td>\n",
       "      <td>30</td>\n",
       "    </tr>\n",
       "    <tr>\n",
       "      <th>2</th>\n",
       "      <td>17. 10. 4.</td>\n",
       "      <td>7564</td>\n",
       "      <td>1:31:00</td>\n",
       "      <td>5.400</td>\n",
       "      <td>174</td>\n",
       "    </tr>\n",
       "    <tr>\n",
       "      <th>3</th>\n",
       "      <td>17. 10. 3.</td>\n",
       "      <td>805</td>\n",
       "      <td>0:22:00</td>\n",
       "      <td>0.526</td>\n",
       "      <td>22</td>\n",
       "    </tr>\n",
       "    <tr>\n",
       "      <th>4</th>\n",
       "      <td>17. 10. 2.</td>\n",
       "      <td>1955</td>\n",
       "      <td>0:34:00</td>\n",
       "      <td>1.300</td>\n",
       "      <td>43</td>\n",
       "    </tr>\n",
       "    <tr>\n",
       "      <th>5</th>\n",
       "      <td>17. 10. 1.</td>\n",
       "      <td>895</td>\n",
       "      <td>0:22:00</td>\n",
       "      <td>0.585</td>\n",
       "      <td>23</td>\n",
       "    </tr>\n",
       "    <tr>\n",
       "      <th>6</th>\n",
       "      <td>17. 9. 30.</td>\n",
       "      <td>4675</td>\n",
       "      <td>1:04:00</td>\n",
       "      <td>3.100</td>\n",
       "      <td>104</td>\n",
       "    </tr>\n",
       "    <tr>\n",
       "      <th>7</th>\n",
       "      <td>17. 9. 29.</td>\n",
       "      <td>8377</td>\n",
       "      <td>1:35:00</td>\n",
       "      <td>6.200</td>\n",
       "      <td>207</td>\n",
       "    </tr>\n",
       "  </tbody>\n",
       "</table>\n",
       "</div>"
      ],
      "text/plain": [
       "         Date  Steps Activity Time  Distance  Burned\n",
       "0  17. 10. 6.   3663       0:49:00     2.600      93\n",
       "1  17. 10. 5.   1175       0:28:00     0.768      30\n",
       "2  17. 10. 4.   7564       1:31:00     5.400     174\n",
       "3  17. 10. 3.    805       0:22:00     0.526      22\n",
       "4  17. 10. 2.   1955       0:34:00     1.300      43\n",
       "5  17. 10. 1.    895       0:22:00     0.585      23\n",
       "6  17. 9. 30.   4675       1:04:00     3.100     104\n",
       "7  17. 9. 29.   8377       1:35:00     6.200     207"
      ]
     },
     "execution_count": 22,
     "metadata": {},
     "output_type": "execute_result"
    }
   ],
   "source": [
    "walk"
   ]
  },
  {
   "cell_type": "code",
   "execution_count": 23,
   "metadata": {
    "collapsed": true
   },
   "outputs": [],
   "source": [
    "# Change the data type of Date from string to Datetime\n",
    "walk[\"Date\"] = pd.to_datetime(walk['Date'], yearfirst= True)\n",
    "\n",
    "# Reorder the data from the earlist to the latest\n",
    "walk.sort_values(by = \"Date\", inplace = True)"
   ]
  },
  {
   "cell_type": "code",
   "execution_count": 24,
   "metadata": {
    "collapsed": true
   },
   "outputs": [],
   "source": [
    "# Replace the data type of Date from Timestamp to string\n",
    "walk[\"Date\"] = [str(date.date()) for date in walk[\"Date\"]]"
   ]
  },
  {
   "cell_type": "code",
   "execution_count": 25,
   "metadata": {
    "collapsed": false
   },
   "outputs": [
    {
     "data": {
      "text/html": [
       "<div>\n",
       "<table border=\"1\" class=\"dataframe\">\n",
       "  <thead>\n",
       "    <tr style=\"text-align: right;\">\n",
       "      <th></th>\n",
       "      <th>Date</th>\n",
       "      <th>Steps</th>\n",
       "      <th>Activity Time</th>\n",
       "      <th>Distance</th>\n",
       "      <th>Burned</th>\n",
       "    </tr>\n",
       "  </thead>\n",
       "  <tbody>\n",
       "    <tr>\n",
       "      <th>7</th>\n",
       "      <td>2017-09-29</td>\n",
       "      <td>8377</td>\n",
       "      <td>1:35:00</td>\n",
       "      <td>6.200</td>\n",
       "      <td>207</td>\n",
       "    </tr>\n",
       "    <tr>\n",
       "      <th>6</th>\n",
       "      <td>2017-09-30</td>\n",
       "      <td>4675</td>\n",
       "      <td>1:04:00</td>\n",
       "      <td>3.100</td>\n",
       "      <td>104</td>\n",
       "    </tr>\n",
       "    <tr>\n",
       "      <th>5</th>\n",
       "      <td>2017-10-01</td>\n",
       "      <td>895</td>\n",
       "      <td>0:22:00</td>\n",
       "      <td>0.585</td>\n",
       "      <td>23</td>\n",
       "    </tr>\n",
       "    <tr>\n",
       "      <th>4</th>\n",
       "      <td>2017-10-02</td>\n",
       "      <td>1955</td>\n",
       "      <td>0:34:00</td>\n",
       "      <td>1.300</td>\n",
       "      <td>43</td>\n",
       "    </tr>\n",
       "    <tr>\n",
       "      <th>3</th>\n",
       "      <td>2017-10-03</td>\n",
       "      <td>805</td>\n",
       "      <td>0:22:00</td>\n",
       "      <td>0.526</td>\n",
       "      <td>22</td>\n",
       "    </tr>\n",
       "    <tr>\n",
       "      <th>2</th>\n",
       "      <td>2017-10-04</td>\n",
       "      <td>7564</td>\n",
       "      <td>1:31:00</td>\n",
       "      <td>5.400</td>\n",
       "      <td>174</td>\n",
       "    </tr>\n",
       "    <tr>\n",
       "      <th>1</th>\n",
       "      <td>2017-10-05</td>\n",
       "      <td>1175</td>\n",
       "      <td>0:28:00</td>\n",
       "      <td>0.768</td>\n",
       "      <td>30</td>\n",
       "    </tr>\n",
       "    <tr>\n",
       "      <th>0</th>\n",
       "      <td>2017-10-06</td>\n",
       "      <td>3663</td>\n",
       "      <td>0:49:00</td>\n",
       "      <td>2.600</td>\n",
       "      <td>93</td>\n",
       "    </tr>\n",
       "  </tbody>\n",
       "</table>\n",
       "</div>"
      ],
      "text/plain": [
       "         Date  Steps Activity Time  Distance  Burned\n",
       "7  2017-09-29   8377       1:35:00     6.200     207\n",
       "6  2017-09-30   4675       1:04:00     3.100     104\n",
       "5  2017-10-01    895       0:22:00     0.585      23\n",
       "4  2017-10-02   1955       0:34:00     1.300      43\n",
       "3  2017-10-03    805       0:22:00     0.526      22\n",
       "2  2017-10-04   7564       1:31:00     5.400     174\n",
       "1  2017-10-05   1175       0:28:00     0.768      30\n",
       "0  2017-10-06   3663       0:49:00     2.600      93"
      ]
     },
     "execution_count": 25,
     "metadata": {},
     "output_type": "execute_result"
    }
   ],
   "source": [
    "walk"
   ]
  },
  {
   "cell_type": "markdown",
   "metadata": {},
   "source": [
    "## Steps"
   ]
  },
  {
   "cell_type": "code",
   "execution_count": 26,
   "metadata": {
    "collapsed": false
   },
   "outputs": [
    {
     "name": "stdout",
     "output_type": "stream",
     "text": [
      "Average steps taken a day is 3638 steps\n",
      "Average distance walked a day is 2.559875 km\n",
      "Average calories burned a day is 87 Kcal\n"
     ]
    }
   ],
   "source": [
    "print(\"Average steps taken a day is %d steps\" % walk[\"Steps\"].mean())\n",
    "print(\"Average distance walked a day is %02f km\" % walk[\"Distance\"].mean())\n",
    "print(\"Average calories burned a day is %d Kcal\" % walk[\"Burned\"].mean())"
   ]
  },
  {
   "cell_type": "code",
   "execution_count": 27,
   "metadata": {
    "collapsed": false
   },
   "outputs": [
    {
     "data": {
      "image/png": "[encoded data removed]",
      "text/plain": [
       "<matplotlib.figure.Figure at 0x28c94277ac8>"
      ]
     },
     "metadata": {},
     "output_type": "display_data"
    }
   ],
   "source": [
    "# Draw a plot \n",
    "fig, ax = plt.subplots()\n",
    "\n",
    "index = np.arange(8)\n",
    "\n",
    "bar_width = 0.5\n",
    "\n",
    "line_plot = ax.plot(index, walk[\"Steps\"], color = 'b')\n",
    "ax.set_xlabel('Date')\n",
    "ax.set_ylabel('Steps')\n",
    "ax.set_xticklabels(walk[\"Date\"])\n",
    "\n",
    "# Add a line for average steps\n",
    "ax.axhline(walk[\"Steps\"].mean(), color = 'r')\n",
    "\n",
    "# ax.xaxis_date()\n",
    "fig.autofmt_xdate()\n",
    "\n",
    "plt.show()"
   ]
  },
  {
   "cell_type": "markdown",
   "metadata": {},
   "source": [
    "## Activity Time"
   ]
  },
  {
   "cell_type": "code",
   "execution_count": 28,
   "metadata": {
    "collapsed": true
   },
   "outputs": [],
   "source": [
    "# A fuction to calculate Activity Time by mins\n",
    "def duration_walk(date):\n",
    "    walks = walk[walk[\"Date\"] == date]\n",
    "    walk_hour = walks[\"Activity Time\"]\n",
    "    total_secs = 0\n",
    "    for tm in walk_hour:\n",
    "        if isinstance(tm, str):\n",
    "            time_parts = [int(s) for s in tm.split(\":\")]\n",
    "            total_secs += (time_parts[0] * 60 + time_parts[1]) * 60 + time_parts[2]\n",
    "        else:\n",
    "            continue\n",
    "    min, sec = divmod(total_secs, 60)\n",
    "    return min"
   ]
  },
  {
   "cell_type": "code",
   "execution_count": 29,
   "metadata": {
    "collapsed": false
   },
   "outputs": [],
   "source": [
    "# Make a column Duration with the mins of Activity Time\n",
    "walk[\"Duration\"] = [duration_walk(date) for date in walk[\"Date\"]]"
   ]
  },
  {
   "cell_type": "code",
   "execution_count": 30,
   "metadata": {
    "collapsed": false
   },
   "outputs": [
    {
     "name": "stdout",
     "output_type": "stream",
     "text": [
      "Total length of Activity Time is 6 hrs 45 mins\n",
      "Average length of Activity Time in each day is 0 hrs 50 mins\n"
     ]
    }
   ],
   "source": [
    "# Total length of Activity Time\n",
    "print(\"The total length of Activity Time is %d hrs %d mins\" % divmod(walk[\"Duration\"].sum(), 60))\n",
    "\n",
    "# Average length of Activity Time a day\n",
    "print(\"The average length of Activity Time in each day is %d hrs %d mins\" % divmod(walk[\"Duration\"].mean(), 60))"
   ]
  },
  {
   "cell_type": "markdown",
   "metadata": {},
   "source": [
    "# Summary"
   ]
  },
  {
   "cell_type": "code",
   "execution_count": 64,
   "metadata": {
    "collapsed": false
   },
   "outputs": [
    {
     "name": "stdout",
     "output_type": "stream",
     "text": [
      "The total play time of Netflix is 53 hours and 29 mins\n",
      "The total duration of sleep is 62 hours and 37 mins\n",
      "The total length of Activity Time is 6 hrs 45 mins\n"
     ]
    }
   ],
   "source": [
    "# Total activities in time\n",
    "print(\"The total play time of Netflix is %d hours and %02d mins\" % divmod(netflix_df[\"Duration\"].sum(), 60))\n",
    "print(\"The total duration of sleep is %d hours and %02d mins\" % divmod(sleep[\"Duration\"].sum(), 60))\n",
    "print(\"The total length of Activity Time is %d hrs %d mins\" % divmod(walk[\"Duration\"].sum(), 60))"
   ]
  },
  {
   "cell_type": "code",
   "execution_count": 65,
   "metadata": {
    "collapsed": false
   },
   "outputs": [
    {
     "name": "stdout",
     "output_type": "stream",
     "text": [
      "The average play time of Netflix is 7 hours and 38 mins\n",
      "The average duration of sleep is 7 hours and 49 mins\n",
      "The average length of Activity Time in each day is 0 hrs 50 mins\n"
     ]
    }
   ],
   "source": [
    "# Daily activities\n",
    "print(\"The average play time of Netflix is %d hours and %02d mins\" % divmod(netflix_df[\"Duration\"].mean(), 60))\n",
    "print(\"The average duration of sleep is %d hours and %02d mins\" % divmod(sleep[\"Duration\"].mean(), 60))\n",
    "print(\"The average length of Activity Time in each day is %d hrs %d mins\" % divmod(walk[\"Duration\"].mean(), 60))"
   ]
  },
  {
   "cell_type": "code",
   "execution_count": null,
   "metadata": {
    "collapsed": true
   },
   "outputs": [],
   "source": []
  }
 ],
 "metadata": {
  "anaconda-cloud": {},
  "kernelspec": {
   "display_name": "Python [conda root]",
   "language": "python",
   "name": "conda-root-py"
  },
  "language_info": {
   "codemirror_mode": {
    "name": "ipython",
    "version": 3
   },
   "file_extension": ".py",
   "mimetype": "text/x-python",
   "name": "python",
   "nbconvert_exporter": "python",
   "pygments_lexer": "ipython3",
   "version": "3.5.2"
  }
 },
 "nbformat": 4,
 "nbformat_minor": 1
}
